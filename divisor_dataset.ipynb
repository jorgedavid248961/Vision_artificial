{
 "cells": [
  {
   "cell_type": "code",
   "execution_count": 1,
   "id": "e0503a70",
   "metadata": {},
   "outputs": [],
   "source": [
    "import os\n",
    "import shutil\n",
    "import random\n",
    "\n",
    "def split_dataset(input_folder, output_folder, train_ratio=0.8, valid_ratio=0.1, test_ratio=0.1):\n",
    "    # Crear la carpeta de salida si no existe\n",
    "    if not os.path.exists(output_folder):\n",
    "        os.makedirs(output_folder)\n",
    "\n",
    "    # Listar los archivos en la carpeta de imágenes\n",
    "    image_files = [f for f in os.listdir(os.path.join(input_folder, 'imagenes')) if f.lower().endswith(('.jpg', '.png'))]\n",
    "\n",
    "    # Mezclar los nombres de los archivos para distribuir aleatoriamente\n",
    "    random.shuffle(image_files)\n",
    "\n",
    "    # Calcular los índices para dividir el dataset\n",
    "    total_files = len(image_files)\n",
    "    train_split = int(total_files * train_ratio)\n",
    "    valid_split = int(total_files * (train_ratio + valid_ratio))\n",
    "\n",
    "    # Dividir los archivos en conjuntos de train, valid y test\n",
    "    train_files = image_files[:train_split]\n",
    "    valid_files = image_files[train_split:valid_split]\n",
    "    test_files = image_files[valid_split:]\n",
    "\n",
    "    # Definir las carpetas de salida\n",
    "    output_train_folder = os.path.join(output_folder, 'train')\n",
    "    output_valid_folder = os.path.join(output_folder, 'valid')\n",
    "    output_test_folder = os.path.join(output_folder, 'test')\n",
    "\n",
    "    # Copiar archivos de imágenes y etiquetas a las carpetas de salida\n",
    "    for dataset, output_dataset_folder in [(train_files, output_train_folder),\n",
    "                                           (valid_files, output_valid_folder),\n",
    "                                           (test_files, output_test_folder)]:\n",
    "        # Crear carpetas de imágenes y etiquetas\n",
    "        os.makedirs(os.path.join(output_dataset_folder, 'imagenes'))\n",
    "        os.makedirs(os.path.join(output_dataset_folder, 'etiquetas'))\n",
    "\n",
    "        for filename in dataset:\n",
    "            # Copiar archivos de imágenes\n",
    "            image_source_path = os.path.join(input_folder, 'imagenes', filename)\n",
    "            image_dest_path = os.path.join(output_dataset_folder, 'imagenes', filename)\n",
    "            shutil.copyfile(image_source_path, image_dest_path)\n",
    "\n",
    "            # Copiar archivos de etiquetas\n",
    "            label_source_path = os.path.join(input_folder, 'etiquetas', filename.replace(os.path.splitext(filename)[1], '.txt'))\n",
    "            label_dest_path = os.path.join(output_dataset_folder, 'etiquetas', filename.replace(os.path.splitext(filename)[1], '.txt'))\n",
    "            shutil.copyfile(label_source_path, label_dest_path)\n",
    "\n",
    "if __name__ == \"__main__\":\n",
    "    input_folder = r\"C:\\Users\\nelsongomez\\Desktop\\detectores yolo\\dataset\\dataset\"\n",
    "    output_folder = r\"C:\\Users\\nelsongomez\\Desktop\\detectores yolo\\dataset\\dataset_nas\"\n",
    "    split_dataset(input_folder, output_folder)"
   ]
  },
  {
   "cell_type": "code",
   "execution_count": null,
   "id": "9a938923",
   "metadata": {},
   "outputs": [],
   "source": []
  }
 ],
 "metadata": {
  "kernelspec": {
   "display_name": "Python 3 (ipykernel)",
   "language": "python",
   "name": "python3"
  },
  "language_info": {
   "codemirror_mode": {
    "name": "ipython",
    "version": 3
   },
   "file_extension": ".py",
   "mimetype": "text/x-python",
   "name": "python",
   "nbconvert_exporter": "python",
   "pygments_lexer": "ipython3",
   "version": "3.10.12"
  }
 },
 "nbformat": 4,
 "nbformat_minor": 5
}
