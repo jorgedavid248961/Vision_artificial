{
 "cells": [
  {
   "cell_type": "code",
   "execution_count": 1,
   "id": "ee76b54f",
   "metadata": {},
   "outputs": [
    {
     "name": "stdout",
     "output_type": "stream",
     "text": [
      "Defaulting to user installation because normal site-packages is not writeable\n",
      "Requirement already satisfied: super_gradients==3.1.3 in c:\\anaconda\\envs\\yolo_nas\\lib\\site-packages (3.1.3)\n",
      "Requirement already satisfied: torch>=1.9.0 in c:\\anaconda\\envs\\yolo_nas\\lib\\site-packages (from super_gradients==3.1.3) (2.1.0)\n",
      "Requirement already satisfied: tqdm>=4.57.0 in c:\\anaconda\\envs\\yolo_nas\\lib\\site-packages (from super_gradients==3.1.3) (4.66.1)\n",
      "Requirement already satisfied: boto3>=1.17.15 in c:\\anaconda\\envs\\yolo_nas\\lib\\site-packages (from super_gradients==3.1.3) (1.28.62)\n",
      "Requirement already satisfied: jsonschema>=3.2.0 in c:\\anaconda\\envs\\yolo_nas\\lib\\site-packages (from super_gradients==3.1.3) (4.17.3)\n",
      "Requirement already satisfied: Deprecated>=1.2.11 in c:\\anaconda\\envs\\yolo_nas\\lib\\site-packages (from super_gradients==3.1.3) (1.2.14)\n",
      "Requirement already satisfied: opencv-python>=4.5.1 in c:\\anaconda\\envs\\yolo_nas\\lib\\site-packages (from super_gradients==3.1.3) (4.8.1.78)\n",
      "Requirement already satisfied: scipy>=1.6.1 in c:\\anaconda\\envs\\yolo_nas\\lib\\site-packages (from super_gradients==3.1.3) (1.11.3)\n",
      "Requirement already satisfied: matplotlib>=3.3.4 in c:\\anaconda\\envs\\yolo_nas\\lib\\site-packages (from super_gradients==3.1.3) (3.8.0)\n",
      "Requirement already satisfied: psutil>=5.8.0 in c:\\anaconda\\envs\\yolo_nas\\lib\\site-packages (from super_gradients==3.1.3) (5.9.0)\n",
      "Requirement already satisfied: tensorboard>=2.4.1 in c:\\anaconda\\envs\\yolo_nas\\lib\\site-packages (from super_gradients==3.1.3) (2.14.1)\n",
      "Requirement already satisfied: setuptools>=21.0.0 in c:\\anaconda\\envs\\yolo_nas\\lib\\site-packages (from super_gradients==3.1.3) (68.0.0)\n",
      "Requirement already satisfied: coverage~=5.3.1 in c:\\anaconda\\envs\\yolo_nas\\lib\\site-packages (from super_gradients==3.1.3) (5.3.1)\n",
      "Requirement already satisfied: torchvision>=0.10.0 in c:\\anaconda\\envs\\yolo_nas\\lib\\site-packages (from super_gradients==3.1.3) (0.16.0)\n",
      "Requirement already satisfied: sphinx~=4.0.2 in c:\\anaconda\\envs\\yolo_nas\\lib\\site-packages (from super_gradients==3.1.3) (4.0.3)\n",
      "Requirement already satisfied: sphinx-rtd-theme in c:\\anaconda\\envs\\yolo_nas\\lib\\site-packages (from super_gradients==3.1.3) (1.3.0)\n",
      "Requirement already satisfied: torchmetrics==0.8 in c:\\anaconda\\envs\\yolo_nas\\lib\\site-packages (from super_gradients==3.1.3) (0.8.0)\n",
      "Requirement already satisfied: hydra-core>=1.2.0 in c:\\anaconda\\envs\\yolo_nas\\lib\\site-packages (from super_gradients==3.1.3) (1.3.2)\n",
      "Requirement already satisfied: omegaconf in c:\\anaconda\\envs\\yolo_nas\\lib\\site-packages (from super_gradients==3.1.3) (2.3.0)\n",
      "Requirement already satisfied: onnxruntime==1.13.1 in c:\\anaconda\\envs\\yolo_nas\\lib\\site-packages (from super_gradients==3.1.3) (1.13.1)\n",
      "Requirement already satisfied: onnx==1.13.0 in c:\\anaconda\\envs\\yolo_nas\\lib\\site-packages (from super_gradients==3.1.3) (1.13.0)\n",
      "Requirement already satisfied: pillow!=8.3,>=5.3.0 in c:\\anaconda\\envs\\yolo_nas\\lib\\site-packages (from super_gradients==3.1.3) (10.0.1)\n",
      "Requirement already satisfied: pip-tools>=6.12.1 in c:\\anaconda\\envs\\yolo_nas\\lib\\site-packages (from super_gradients==3.1.3) (7.3.0)\n",
      "Requirement already satisfied: pyparsing==2.4.5 in c:\\users\\jorge a david\\appdata\\roaming\\python\\python310\\site-packages (from super_gradients==3.1.3) (2.4.5)\n",
      "Requirement already satisfied: einops==0.3.2 in c:\\anaconda\\envs\\yolo_nas\\lib\\site-packages (from super_gradients==3.1.3) (0.3.2)\n",
      "Requirement already satisfied: pycocotools==2.0.6 in c:\\anaconda\\envs\\yolo_nas\\lib\\site-packages (from super_gradients==3.1.3) (2.0.6)\n",
      "Requirement already satisfied: protobuf==3.20.3 in c:\\anaconda\\envs\\yolo_nas\\lib\\site-packages (from super_gradients==3.1.3) (3.20.3)\n",
      "Requirement already satisfied: treelib==1.6.1 in c:\\anaconda\\envs\\yolo_nas\\lib\\site-packages (from super_gradients==3.1.3) (1.6.1)\n",
      "Requirement already satisfied: termcolor==1.1.0 in c:\\anaconda\\envs\\yolo_nas\\lib\\site-packages (from super_gradients==3.1.3) (1.1.0)\n",
      "Requirement already satisfied: packaging>=20.4 in c:\\anaconda\\envs\\yolo_nas\\lib\\site-packages (from super_gradients==3.1.3) (23.1)\n",
      "Requirement already satisfied: wheel>=0.38.0 in c:\\anaconda\\envs\\yolo_nas\\lib\\site-packages (from super_gradients==3.1.3) (0.41.2)\n",
      "Requirement already satisfied: pygments>=2.7.4 in c:\\anaconda\\envs\\yolo_nas\\lib\\site-packages (from super_gradients==3.1.3) (2.15.1)\n",
      "Requirement already satisfied: stringcase>=1.2.0 in c:\\anaconda\\envs\\yolo_nas\\lib\\site-packages (from super_gradients==3.1.3) (1.2.0)\n",
      "Requirement already satisfied: numpy<=1.23 in c:\\anaconda\\envs\\yolo_nas\\lib\\site-packages (from super_gradients==3.1.3) (1.23.0)\n",
      "Requirement already satisfied: rapidfuzz in c:\\anaconda\\envs\\yolo_nas\\lib\\site-packages (from super_gradients==3.1.3) (3.4.0)\n",
      "Requirement already satisfied: json-tricks==3.16.1 in c:\\anaconda\\envs\\yolo_nas\\lib\\site-packages (from super_gradients==3.1.3) (3.16.1)\n",
      "Requirement already satisfied: onnx-simplifier<1.0,>=0.3.6 in c:\\anaconda\\envs\\yolo_nas\\lib\\site-packages (from super_gradients==3.1.3) (0.4.33)\n",
      "Requirement already satisfied: typing-extensions>=3.6.2.1 in c:\\anaconda\\envs\\yolo_nas\\lib\\site-packages (from onnx==1.13.0->super_gradients==3.1.3) (4.7.1)\n",
      "Requirement already satisfied: coloredlogs in c:\\anaconda\\envs\\yolo_nas\\lib\\site-packages (from onnxruntime==1.13.1->super_gradients==3.1.3) (15.0.1)\n",
      "Requirement already satisfied: flatbuffers in c:\\anaconda\\envs\\yolo_nas\\lib\\site-packages (from onnxruntime==1.13.1->super_gradients==3.1.3) (23.5.26)\n",
      "Requirement already satisfied: sympy in c:\\anaconda\\envs\\yolo_nas\\lib\\site-packages (from onnxruntime==1.13.1->super_gradients==3.1.3) (1.12)\n",
      "Requirement already satisfied: pyDeprecate==0.3.* in c:\\anaconda\\envs\\yolo_nas\\lib\\site-packages (from torchmetrics==0.8->super_gradients==3.1.3) (0.3.2)\n",
      "Requirement already satisfied: future in c:\\anaconda\\envs\\yolo_nas\\lib\\site-packages (from treelib==1.6.1->super_gradients==3.1.3) (0.18.3)\n",
      "Requirement already satisfied: botocore<1.32.0,>=1.31.62 in c:\\anaconda\\envs\\yolo_nas\\lib\\site-packages (from boto3>=1.17.15->super_gradients==3.1.3) (1.31.62)\n",
      "Requirement already satisfied: jmespath<2.0.0,>=0.7.1 in c:\\anaconda\\envs\\yolo_nas\\lib\\site-packages (from boto3>=1.17.15->super_gradients==3.1.3) (1.0.1)\n",
      "Requirement already satisfied: s3transfer<0.8.0,>=0.7.0 in c:\\anaconda\\envs\\yolo_nas\\lib\\site-packages (from boto3>=1.17.15->super_gradients==3.1.3) (0.7.0)\n",
      "Requirement already satisfied: wrapt<2,>=1.10 in c:\\anaconda\\envs\\yolo_nas\\lib\\site-packages (from Deprecated>=1.2.11->super_gradients==3.1.3) (1.15.0)\n",
      "Requirement already satisfied: antlr4-python3-runtime==4.9.* in c:\\anaconda\\envs\\yolo_nas\\lib\\site-packages (from hydra-core>=1.2.0->super_gradients==3.1.3) (4.9.3)\n",
      "Requirement already satisfied: attrs>=17.4.0 in c:\\anaconda\\envs\\yolo_nas\\lib\\site-packages (from jsonschema>=3.2.0->super_gradients==3.1.3) (23.1.0)\n",
      "Requirement already satisfied: pyrsistent!=0.17.0,!=0.17.1,!=0.17.2,>=0.14.0 in c:\\anaconda\\envs\\yolo_nas\\lib\\site-packages (from jsonschema>=3.2.0->super_gradients==3.1.3) (0.18.0)\n",
      "Requirement already satisfied: contourpy>=1.0.1 in c:\\anaconda\\envs\\yolo_nas\\lib\\site-packages (from matplotlib>=3.3.4->super_gradients==3.1.3) (1.1.1)\n",
      "Requirement already satisfied: cycler>=0.10 in c:\\anaconda\\envs\\yolo_nas\\lib\\site-packages (from matplotlib>=3.3.4->super_gradients==3.1.3) (0.10.0)\n",
      "Requirement already satisfied: fonttools>=4.22.0 in c:\\anaconda\\envs\\yolo_nas\\lib\\site-packages (from matplotlib>=3.3.4->super_gradients==3.1.3) (4.43.1)\n",
      "Requirement already satisfied: kiwisolver>=1.0.1 in c:\\anaconda\\envs\\yolo_nas\\lib\\site-packages (from matplotlib>=3.3.4->super_gradients==3.1.3) (1.4.5)\n",
      "Requirement already satisfied: python-dateutil>=2.7 in c:\\anaconda\\envs\\yolo_nas\\lib\\site-packages (from matplotlib>=3.3.4->super_gradients==3.1.3) (2.8.2)\n",
      "Requirement already satisfied: PyYAML>=5.1.0 in c:\\anaconda\\envs\\yolo_nas\\lib\\site-packages (from omegaconf->super_gradients==3.1.3) (6.0.1)\n",
      "Requirement already satisfied: rich in c:\\anaconda\\envs\\yolo_nas\\lib\\site-packages (from onnx-simplifier<1.0,>=0.3.6->super_gradients==3.1.3) (13.6.0)\n",
      "Requirement already satisfied: build in c:\\anaconda\\envs\\yolo_nas\\lib\\site-packages (from pip-tools>=6.12.1->super_gradients==3.1.3) (1.0.3)\n",
      "Requirement already satisfied: click>=8 in c:\\anaconda\\envs\\yolo_nas\\lib\\site-packages (from pip-tools>=6.12.1->super_gradients==3.1.3) (8.1.7)\n",
      "Requirement already satisfied: pip>=22.2 in c:\\anaconda\\envs\\yolo_nas\\lib\\site-packages (from pip-tools>=6.12.1->super_gradients==3.1.3) (23.2.1)\n",
      "Requirement already satisfied: tomli in c:\\anaconda\\envs\\yolo_nas\\lib\\site-packages (from pip-tools>=6.12.1->super_gradients==3.1.3) (2.0.1)\n",
      "Requirement already satisfied: sphinxcontrib-applehelp in c:\\anaconda\\envs\\yolo_nas\\lib\\site-packages (from sphinx~=4.0.2->super_gradients==3.1.3) (1.0.4)\n",
      "Requirement already satisfied: sphinxcontrib-devhelp in c:\\anaconda\\envs\\yolo_nas\\lib\\site-packages (from sphinx~=4.0.2->super_gradients==3.1.3) (1.0.2)\n",
      "Requirement already satisfied: sphinxcontrib-jsmath in c:\\anaconda\\envs\\yolo_nas\\lib\\site-packages (from sphinx~=4.0.2->super_gradients==3.1.3) (1.0.1)\n",
      "Requirement already satisfied: sphinxcontrib-htmlhelp in c:\\anaconda\\envs\\yolo_nas\\lib\\site-packages (from sphinx~=4.0.2->super_gradients==3.1.3) (2.0.1)\n",
      "Requirement already satisfied: sphinxcontrib-serializinghtml in c:\\anaconda\\envs\\yolo_nas\\lib\\site-packages (from sphinx~=4.0.2->super_gradients==3.1.3) (1.1.5)\n",
      "Requirement already satisfied: sphinxcontrib-qthelp in c:\\anaconda\\envs\\yolo_nas\\lib\\site-packages (from sphinx~=4.0.2->super_gradients==3.1.3) (1.0.3)\n",
      "Requirement already satisfied: Jinja2>=2.3 in c:\\anaconda\\envs\\yolo_nas\\lib\\site-packages (from sphinx~=4.0.2->super_gradients==3.1.3) (3.1.2)\n",
      "Requirement already satisfied: docutils<0.18,>=0.14 in c:\\anaconda\\envs\\yolo_nas\\lib\\site-packages (from sphinx~=4.0.2->super_gradients==3.1.3) (0.17.1)\n",
      "Requirement already satisfied: snowballstemmer>=1.1 in c:\\anaconda\\envs\\yolo_nas\\lib\\site-packages (from sphinx~=4.0.2->super_gradients==3.1.3) (2.2.0)\n",
      "Requirement already satisfied: babel>=1.3 in c:\\anaconda\\envs\\yolo_nas\\lib\\site-packages (from sphinx~=4.0.2->super_gradients==3.1.3) (2.13.0)\n",
      "Requirement already satisfied: alabaster<0.8,>=0.7 in c:\\anaconda\\envs\\yolo_nas\\lib\\site-packages (from sphinx~=4.0.2->super_gradients==3.1.3) (0.7.13)\n",
      "Requirement already satisfied: imagesize in c:\\anaconda\\envs\\yolo_nas\\lib\\site-packages (from sphinx~=4.0.2->super_gradients==3.1.3) (1.4.1)\n",
      "Requirement already satisfied: requests>=2.5.0 in c:\\anaconda\\envs\\yolo_nas\\lib\\site-packages (from sphinx~=4.0.2->super_gradients==3.1.3) (2.31.0)\n",
      "Requirement already satisfied: colorama>=0.3.5 in c:\\anaconda\\envs\\yolo_nas\\lib\\site-packages (from sphinx~=4.0.2->super_gradients==3.1.3) (0.4.6)\n",
      "Requirement already satisfied: absl-py>=0.4 in c:\\anaconda\\envs\\yolo_nas\\lib\\site-packages (from tensorboard>=2.4.1->super_gradients==3.1.3) (2.0.0)\n",
      "Requirement already satisfied: grpcio>=1.48.2 in c:\\anaconda\\envs\\yolo_nas\\lib\\site-packages (from tensorboard>=2.4.1->super_gradients==3.1.3) (1.59.0)\n",
      "Requirement already satisfied: google-auth<3,>=1.6.3 in c:\\anaconda\\envs\\yolo_nas\\lib\\site-packages (from tensorboard>=2.4.1->super_gradients==3.1.3) (2.23.3)\n",
      "Requirement already satisfied: google-auth-oauthlib<1.1,>=0.5 in c:\\anaconda\\envs\\yolo_nas\\lib\\site-packages (from tensorboard>=2.4.1->super_gradients==3.1.3) (1.0.0)\n",
      "Requirement already satisfied: markdown>=2.6.8 in c:\\anaconda\\envs\\yolo_nas\\lib\\site-packages (from tensorboard>=2.4.1->super_gradients==3.1.3) (3.5)\n",
      "Requirement already satisfied: six>1.9 in c:\\anaconda\\envs\\yolo_nas\\lib\\site-packages (from tensorboard>=2.4.1->super_gradients==3.1.3) (1.16.0)\n",
      "Requirement already satisfied: tensorboard-data-server<0.8.0,>=0.7.0 in c:\\anaconda\\envs\\yolo_nas\\lib\\site-packages (from tensorboard>=2.4.1->super_gradients==3.1.3) (0.7.1)\n",
      "Requirement already satisfied: werkzeug>=1.0.1 in c:\\anaconda\\envs\\yolo_nas\\lib\\site-packages (from tensorboard>=2.4.1->super_gradients==3.1.3) (3.0.0)\n",
      "Requirement already satisfied: filelock in c:\\anaconda\\envs\\yolo_nas\\lib\\site-packages (from torch>=1.9.0->super_gradients==3.1.3) (3.12.4)\n",
      "Requirement already satisfied: networkx in c:\\anaconda\\envs\\yolo_nas\\lib\\site-packages (from torch>=1.9.0->super_gradients==3.1.3) (3.1)\n",
      "Requirement already satisfied: fsspec in c:\\anaconda\\envs\\yolo_nas\\lib\\site-packages (from torch>=1.9.0->super_gradients==3.1.3) (2023.9.2)\n",
      "Requirement already satisfied: sphinxcontrib-jquery<5,>=4 in c:\\anaconda\\envs\\yolo_nas\\lib\\site-packages (from sphinx-rtd-theme->super_gradients==3.1.3) (4.1)\n",
      "Requirement already satisfied: urllib3<2.1,>=1.25.4 in c:\\anaconda\\envs\\yolo_nas\\lib\\site-packages (from botocore<1.32.0,>=1.31.62->boto3>=1.17.15->super_gradients==3.1.3) (2.0.6)\n",
      "Requirement already satisfied: cachetools<6.0,>=2.0.0 in c:\\anaconda\\envs\\yolo_nas\\lib\\site-packages (from google-auth<3,>=1.6.3->tensorboard>=2.4.1->super_gradients==3.1.3) (5.3.1)\n",
      "Requirement already satisfied: pyasn1-modules>=0.2.1 in c:\\anaconda\\envs\\yolo_nas\\lib\\site-packages (from google-auth<3,>=1.6.3->tensorboard>=2.4.1->super_gradients==3.1.3) (0.3.0)\n",
      "Requirement already satisfied: rsa<5,>=3.1.4 in c:\\anaconda\\envs\\yolo_nas\\lib\\site-packages (from google-auth<3,>=1.6.3->tensorboard>=2.4.1->super_gradients==3.1.3) (4.9)\n",
      "Requirement already satisfied: requests-oauthlib>=0.7.0 in c:\\anaconda\\envs\\yolo_nas\\lib\\site-packages (from google-auth-oauthlib<1.1,>=0.5->tensorboard>=2.4.1->super_gradients==3.1.3) (1.3.1)\n",
      "Requirement already satisfied: MarkupSafe>=2.0 in c:\\anaconda\\envs\\yolo_nas\\lib\\site-packages (from Jinja2>=2.3->sphinx~=4.0.2->super_gradients==3.1.3) (2.1.1)\n",
      "Requirement already satisfied: charset-normalizer<4,>=2 in c:\\anaconda\\envs\\yolo_nas\\lib\\site-packages (from requests>=2.5.0->sphinx~=4.0.2->super_gradients==3.1.3) (3.3.0)\n",
      "Requirement already satisfied: idna<4,>=2.5 in c:\\anaconda\\envs\\yolo_nas\\lib\\site-packages (from requests>=2.5.0->sphinx~=4.0.2->super_gradients==3.1.3) (2.10)\n",
      "Requirement already satisfied: certifi>=2017.4.17 in c:\\anaconda\\envs\\yolo_nas\\lib\\site-packages (from requests>=2.5.0->sphinx~=4.0.2->super_gradients==3.1.3) (2022.12.7)\n",
      "Requirement already satisfied: pyproject_hooks in c:\\anaconda\\envs\\yolo_nas\\lib\\site-packages (from build->pip-tools>=6.12.1->super_gradients==3.1.3) (1.0.0)\n",
      "Requirement already satisfied: humanfriendly>=9.1 in c:\\anaconda\\envs\\yolo_nas\\lib\\site-packages (from coloredlogs->onnxruntime==1.13.1->super_gradients==3.1.3) (10.0)\n",
      "Requirement already satisfied: markdown-it-py>=2.2.0 in c:\\anaconda\\envs\\yolo_nas\\lib\\site-packages (from rich->onnx-simplifier<1.0,>=0.3.6->super_gradients==3.1.3) (3.0.0)\n",
      "Requirement already satisfied: mpmath>=0.19 in c:\\anaconda\\envs\\yolo_nas\\lib\\site-packages (from sympy->onnxruntime==1.13.1->super_gradients==3.1.3) (1.3.0)\n",
      "Requirement already satisfied: pyreadline3 in c:\\anaconda\\envs\\yolo_nas\\lib\\site-packages (from humanfriendly>=9.1->coloredlogs->onnxruntime==1.13.1->super_gradients==3.1.3) (3.4.1)\n",
      "Requirement already satisfied: mdurl~=0.1 in c:\\anaconda\\envs\\yolo_nas\\lib\\site-packages (from markdown-it-py>=2.2.0->rich->onnx-simplifier<1.0,>=0.3.6->super_gradients==3.1.3) (0.1.2)\n",
      "Requirement already satisfied: pyasn1<0.6.0,>=0.4.6 in c:\\anaconda\\envs\\yolo_nas\\lib\\site-packages (from pyasn1-modules>=0.2.1->google-auth<3,>=1.6.3->tensorboard>=2.4.1->super_gradients==3.1.3) (0.5.0)\n",
      "Requirement already satisfied: oauthlib>=3.0.0 in c:\\anaconda\\envs\\yolo_nas\\lib\\site-packages (from requests-oauthlib>=0.7.0->google-auth-oauthlib<1.1,>=0.5->tensorboard>=2.4.1->super_gradients==3.1.3) (3.2.2)\n"
     ]
    },
    {
     "name": "stderr",
     "output_type": "stream",
     "text": [
      "WARNING: Ignoring invalid distribution -pencv-python (c:\\anaconda\\envs\\yolo_nas\\lib\\site-packages)\n",
      "WARNING: Ignoring invalid distribution -pencv-python (c:\\anaconda\\envs\\yolo_nas\\lib\\site-packages)\n"
     ]
    }
   ],
   "source": [
    "!pip install super_gradients==3.1.3"
   ]
  },
  {
   "cell_type": "code",
   "execution_count": 1,
   "id": "23f664e0",
   "metadata": {},
   "outputs": [
    {
     "name": "stdout",
     "output_type": "stream",
     "text": [
      "cpu\n"
     ]
    }
   ],
   "source": [
    "import torch\n",
    "\n",
    "DEVICE = 'cuda' if torch.cuda.is_available() else \"cpu\"\n",
    "print(DEVICE)"
   ]
  },
  {
   "cell_type": "code",
   "execution_count": 2,
   "id": "99f21489",
   "metadata": {},
   "outputs": [],
   "source": [
    "from super_gradients.training import Trainer\n",
    "from super_gradients.common.object_names import Models\n",
    "from super_gradients.training import models\n",
    "from super_gradients.training.processing import ComposeProcessing"
   ]
  },
  {
   "cell_type": "code",
   "execution_count": 3,
   "id": "1a1f3b9c",
   "metadata": {},
   "outputs": [],
   "source": [
    "best_model = models.get('yolo_nas_s',\n",
    "                        num_classes=1,\n",
    "                        checkpoint_path=r\"C:\\Users\\Jorge A David\\Desktop\\ckpt_best (1).pth\")"
   ]
  },
  {
   "cell_type": "code",
   "execution_count": 4,
   "id": "14254c09",
   "metadata": {},
   "outputs": [],
   "source": [
    "import cv2\n",
    "import numpy as np"
   ]
  },
  {
   "cell_type": "code",
   "execution_count": 6,
   "id": "3b3a1267",
   "metadata": {},
   "outputs": [],
   "source": [
    "#yolo_nas = super_gradients.training.models.get(\"yolo_nas_l\", pretrained_weights=\"coco\").cuda()\n",
    "\n",
    "# Iniciar la captura de video desde la cámara de tu ordenador\n",
    "# -- coding: utf-8 --\n",
    "import socket\n",
    "import json\n",
    "import random\n",
    "import time\n",
    " \n",
    "cap = cv2.VideoCapture(0)  # 0 es el índice de la cámara predeterminada, pero puedes ajustarlo si tienes múltiples cámaras\n",
    "\n",
    "while True:\n",
    "    ret, frame = cap.read()  # Capturar un fotograma de la cámara\n",
    "\n",
    "    if not ret:\n",
    "        break\n",
    "\n",
    "    # Realizar la predicción en el fotograma\n",
    "    model_predictions = best_model.predict(frame, conf=0.8)\n",
    "    prediction = model_predictions[0].prediction\n",
    "\n",
    "    # Obtener las coordenadas delimitadoras desde la variable 'bboxes'\n",
    "    bboxes = prediction.bboxes_xyxy\n",
    "\n",
    "    confidences = prediction.confidence.astype(float)\n",
    "\n",
    "    # Dibujar los cuadros delimitadores y confianza en el fotograma\n",
    "    for bbox, confidence in zip(bboxes, confidences):\n",
    "        x_min, y_min, x_max, y_max = map(int, bbox)\n",
    "        label = f\"Confianza: {confidence:.2f}\"\n",
    "        cv2.rectangle(frame, (x_min, y_min), (x_max, y_max), (0, 255, 0), 2)\n",
    "        cv2.putText(frame, label, (x_min, y_min - 10), cv2.FONT_HERSHEY_SIMPLEX, 0.5, (0, 255, 0), 2)\n",
    "        cv2.imshow(\"YOLO NAS Detection\", frame)\n",
    "\n",
    "    # Salir del bucle si se presiona la tecla 'q'\n",
    "    if cv2.waitKey(1) & 0xFF == ord('q'):\n",
    "        break\n",
    "\n",
    "# Liberar la captura de video y cerrar todas las ventanas\n",
    "cap.release()\n",
    "cv2.destroyAllWindows()"
   ]
  },
  {
   "cell_type": "code",
   "execution_count": null,
   "id": "87aa516a",
   "metadata": {},
   "outputs": [],
   "source": []
  }
 ],
 "metadata": {
  "kernelspec": {
   "display_name": "Python 3 (ipykernel)",
   "language": "python",
   "name": "python3"
  },
  "language_info": {
   "codemirror_mode": {
    "name": "ipython",
    "version": 3
   },
   "file_extension": ".py",
   "mimetype": "text/x-python",
   "name": "python",
   "nbconvert_exporter": "python",
   "pygments_lexer": "ipython3",
   "version": "3.10.13"
  }
 },
 "nbformat": 4,
 "nbformat_minor": 5
}
