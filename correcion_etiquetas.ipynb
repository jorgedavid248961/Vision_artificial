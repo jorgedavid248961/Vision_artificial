{
 "cells": [
  {
   "cell_type": "code",
   "execution_count": 6,
   "id": "ef4eab24",
   "metadata": {},
   "outputs": [
    {
     "name": "stdout",
     "output_type": "stream",
     "text": [
      "No se encontraron archivos vacíos en el directorio de etiquetas.\n"
     ]
    }
   ],
   "source": [
    "import os\n",
    "\n",
    "# Directorio que contiene los archivos de texto con las etiquetas\n",
    "directorio_etiquetas = r\"C:\\Users\\nelsongomez\\Desktop\\detectores yolo\\dataset\\dataset_nas\\valid\\etiquetas\"\n",
    "\n",
    "# Obtener la lista de archivos en el directorio\n",
    "archivos_etiquetas = os.listdir(directorio_etiquetas)\n",
    "\n",
    "# Lista para almacenar los nombres de los archivos vacíos\n",
    "archivos_vacios = []\n",
    "\n",
    "# Recorrer cada archivo de etiquetas\n",
    "for archivo in archivos_etiquetas:\n",
    "    # Obtener la ruta completa del archivo\n",
    "    ruta_archivo = os.path.join(directorio_etiquetas, archivo)\n",
    "\n",
    "    # Verificar si el archivo está vacío\n",
    "    if os.path.getsize(ruta_archivo) == 0:\n",
    "        archivos_vacios.append(archivo)\n",
    "\n",
    "# Mostrar los nombres de los archivos vacíos\n",
    "if len(archivos_vacios) > 0:\n",
    "    print(\"Los siguientes archivos están vacíos:\")\n",
    "    for archivo in archivos_vacios:\n",
    "        print(archivo)\n",
    "else:\n",
    "    print(\"No se encontraron archivos vacíos en el directorio de etiquetas.\")"
   ]
  },
  {
   "cell_type": "code",
   "execution_count": null,
   "id": "81aec209",
   "metadata": {},
   "outputs": [],
   "source": [
    "import os\n",
    "\n",
    "# Directorio que contiene los archivos de texto con las etiquetas\n",
    "directorio_etiquetas = r\"C:\\Users\\nelsongomez\\Desktop\\detectores yolo\\dataset\\dataset_nas\\valid\\etiquetas\"\n",
    "\n",
    "# Obtener la lista de archivos en el directorio\n",
    "archivos_etiquetas = os.listdir(directorio_etiquetas)\n",
    "\n",
    "# Lista para almacenar los nombres de los archivos sin la etiqueta 1\n",
    "archivos_sin_etiqueta_1 = []\n",
    "\n",
    "# Recorrer cada archivo de etiquetas\n",
    "for archivo in archivos_etiquetas:\n",
    "    # Obtener la ruta completa del archivo\n",
    "    ruta_archivo = os.path.join(directorio_etiquetas, archivo)\n",
    "\n",
    "    # Leer el archivo de etiquetas\n",
    "    with open(ruta_archivo, 'r') as file:\n",
    "        lineas = file.readlines()\n",
    "\n",
    "        # Verificar si la primera etiqueta no es 1\n",
    "        primera_etiqueta = lineas[0].strip().split(' ')[0]\n",
    "\n",
    "        if primera_etiqueta != '0':\n",
    "            archivos_sin_etiqueta_1.append(archivo)\n",
    "\n",
    "# Mostrar los nombres de los archivos sin la etiqueta 1\n",
    "if len(archivos_sin_etiqueta_1) > 0:\n",
    "    print(\"Los siguientes archivos no comienzan con la etiqueta 0:\")\n",
    "    for archivo in archivos_sin_etiqueta_1:\n",
    "        print(archivo)\n",
    "else:\n",
    "    print(\"Todos los archivos comienzan con la etiqueta 0.\")"
   ]
  },
  {
   "cell_type": "code",
   "execution_count": 8,
   "id": "c3a6be3a",
   "metadata": {},
   "outputs": [
    {
     "name": "stdout",
     "output_type": "stream",
     "text": [
      "Proceso completado.\n"
     ]
    }
   ],
   "source": [
    "import os\n",
    "\n",
    "carpeta_etiquetas = r\"C:\\Users\\nelsongomez\\Desktop\\detectores yolo\\dataset\\dataset_nas\\valid\\etiquetas\"\n",
    "\n",
    "def reemplazar_subindices(ruta_archivo):\n",
    "    with open(ruta_archivo, 'r') as archivo:\n",
    "        contenido = archivo.read()\n",
    "    \n",
    "    # Reemplazar subíndices \"-1\" por \"0\"\n",
    "    contenido_modificado = contenido.replace('-1', '0')\n",
    "    \n",
    "    with open(ruta_archivo, 'w') as archivo:\n",
    "        archivo.write(contenido_modificado)\n",
    "\n",
    "def procesar_archivos_txt():\n",
    "    for archivo in os.listdir(carpeta_etiquetas):\n",
    "        if archivo.endswith(\".txt\"):\n",
    "            ruta_archivo = os.path.join(carpeta_etiquetas, archivo)\n",
    "            reemplazar_subindices(ruta_archivo)\n",
    "\n",
    "if __name__ == \"__main__\":\n",
    "    procesar_archivos_txt()\n",
    "    print(\"Proceso completado.\")"
   ]
  },
  {
   "cell_type": "code",
   "execution_count": null,
   "id": "dd114a23",
   "metadata": {},
   "outputs": [],
   "source": []
  }
 ],
 "metadata": {
  "kernelspec": {
   "display_name": "Python 3 (ipykernel)",
   "language": "python",
   "name": "python3"
  },
  "language_info": {
   "codemirror_mode": {
    "name": "ipython",
    "version": 3
   },
   "file_extension": ".py",
   "mimetype": "text/x-python",
   "name": "python",
   "nbconvert_exporter": "python",
   "pygments_lexer": "ipython3",
   "version": "3.10.12"
  }
 },
 "nbformat": 4,
 "nbformat_minor": 5
}
